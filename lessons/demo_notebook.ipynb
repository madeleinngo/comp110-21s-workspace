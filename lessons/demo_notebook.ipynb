{
 "metadata": {
  "language_info": {
   "codemirror_mode": {
    "name": "ipython",
    "version": 3
   },
   "file_extension": ".py",
   "mimetype": "text/x-python",
   "name": "python",
   "nbconvert_exporter": "python",
   "pygments_lexer": "ipython3",
   "version": "3.9.1-final"
  },
  "orig_nbformat": 2,
  "kernelspec": {
   "name": "python3",
   "display_name": "Python 3.9.1 64-bit",
   "metadata": {
    "interpreter": {
     "hash": "aee8b7b246df8f9039afb4144a1f6fd8d2ca17a180786b69acc140d282b71a49"
    }
   }
  }
 },
 "nbformat": 4,
 "nbformat_minor": 2,
 "cells": [
  {
   "source": [
    "# My First Notebook\n",
    "\n",
    "This cell will render as _rich-formmated text_ when it is evaluated. In order to make a cell markdown, click the M-down arrow button on the cell header.\n",
    "\n",
    "## Subheadings and other formats\n",
    "\n",
    "* Bulleted lists with stars\n",
    "* **bolded text**\n",
    "* [Links to web pages](https://www.google.com)"
   ],
   "cell_type": "markdown",
   "metadata": {}
  },
  {
   "cell_type": "code",
   "execution_count": 4,
   "metadata": {},
   "outputs": [
    {
     "output_type": "stream",
     "name": "stdout",
     "text": [
      "Hello, Madelein\n"
     ]
    }
   ],
   "source": [
    "name: str = \"Madelein\"\n",
    "print(f\"Hello, {name}\")"
   ]
  },
  {
   "source": [
    "## Keyboard Shortcuts to know\n",
    "\n",
    "`Control + Enter` - Evaluates the current cell and keeps focus in the current cell\n",
    "\n",
    "`Shift + Enter` - Evaluates the current cell and moves focus to the next cell"
   ],
   "cell_type": "markdown",
   "metadata": {}
  },
  {
   "cell_type": "code",
   "execution_count": 5,
   "metadata": {},
   "outputs": [
    {
     "output_type": "stream",
     "name": "stdout",
     "text": [
      "Wow, Madelein, you are doing great!\n"
     ]
    }
   ],
   "source": [
    "print(f\"Wow, {name}, you are doing great!\")"
   ]
  }
 ]
}