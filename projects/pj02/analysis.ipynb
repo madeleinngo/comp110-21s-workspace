{
 "metadata": {
  "language_info": {
   "codemirror_mode": {
    "name": "ipython",
    "version": 3
   },
   "file_extension": ".py",
   "mimetype": "text/x-python",
   "name": "python",
   "nbconvert_exporter": "python",
   "pygments_lexer": "ipython3",
   "version": "3.9.1"
  },
  "orig_nbformat": 2,
  "kernelspec": {
   "name": "python391jvsc74a57bd0e7a26f5bebd1b9da0f051359361ac514eb1c970e7ede8197699eeb788ac44870",
   "display_name": "Python 3.9.1 64-bit"
  },
  "metadata": {
   "interpreter": {
    "hash": "e7a26f5bebd1b9da0f051359361ac514eb1c970e7ede8197699eeb788ac44870"
   }
  }
 },
 "nbformat": 4,
 "nbformat_minor": 2,
 "cells": [
  {
   "source": [
    "## Hypothesis: A higher pupil-teacher ratio in primary school is strongly correlated to persistence to last grade of primary."
   ],
   "cell_type": "markdown",
   "metadata": {}
  },
  {
   "cell_type": "code",
   "execution_count": 3,
   "metadata": {},
   "outputs": [],
   "source": [
    "import pandas as pd\n",
    "\n",
    "PUPIL_TEACHER_RATIO: float\n",
    "PERSISTENCE_TO_LAST_GRADE: float"
   ]
  },
  {
   "source": [
    "### First, I'll be reading in the data file"
   ],
   "cell_type": "markdown",
   "metadata": {}
  },
  {
   "cell_type": "code",
   "execution_count": 4,
   "metadata": {},
   "outputs": [],
   "source": [
    " worldbank = pd.read_csv(\"../../data/databank_education_2018.csv\")"
   ]
  },
  {
   "source": [
    "### Now, I'll be counting at the number of rows and columns in the dataset, making sure that works by selecting the first 10 rows."
   ],
   "cell_type": "markdown",
   "metadata": {}
  },
  {
   "cell_type": "code",
   "execution_count": 5,
   "metadata": {},
   "outputs": [
    {
     "output_type": "execute_result",
     "data": {
      "text/plain": [
       "               Country  SE.COM.DURS  SE.ENR.PRIM.FM.ZS  SE.ENR.PRSC.FM.ZS  \\\n",
       "0          Afghanistan          9.0            0.66691            0.63602   \n",
       "1              Albania          9.0            1.03765            1.01730   \n",
       "2              Algeria         10.0            0.95499                NaN   \n",
       "3              Andorra         10.0                NaN                NaN   \n",
       "4               Angola          6.0                NaN                NaN   \n",
       "5  Antigua and Barbuda         11.0            0.99208            0.97924   \n",
       "6           Arab World          9.0            0.94617            0.94833   \n",
       "7            Argentina         14.0                NaN                NaN   \n",
       "8              Armenia         12.0            0.99961            1.02283   \n",
       "9                Aruba         13.0                NaN                NaN   \n",
       "\n",
       "   SE.ENR.SECO.FM.ZS  SE.ENR.TERT.FM.ZS  SE.PRE.DURS  SE.PRE.ENRL.TC.ZS  \\\n",
       "0            0.57098            0.34523          1.0                NaN   \n",
       "1            1.00539            1.36299          5.0           17.09409   \n",
       "2                NaN            1.39722          1.0                NaN   \n",
       "3                NaN                NaN          3.0           13.27711   \n",
       "4                NaN                NaN          5.0                NaN   \n",
       "5            0.96286                NaN          5.0                NaN   \n",
       "6            0.95186            1.09935          3.0           21.16757   \n",
       "7                NaN                NaN          6.0                NaN   \n",
       "8            1.03762            1.24788          3.0            6.27090   \n",
       "9                NaN                NaN          2.0                NaN   \n",
       "\n",
       "   SE.PRE.ENRR  SE.PRE.ENRR.FE  ...  SH.DYN.1014  SH.DYN.1519  SH.DYN.2024  \\\n",
       "0          NaN             NaN  ...     2.000000    13.800000    17.600000   \n",
       "1    80.498734       80.790977  ...     1.100000     1.800000     1.900000   \n",
       "2          NaN             NaN  ...     1.700000     2.700000     3.300000   \n",
       "3          NaN             NaN  ...     0.500000     1.400000     2.100000   \n",
       "4          NaN             NaN  ...     6.400000    13.100000    19.900000   \n",
       "5    70.253601       74.025070  ...     1.000000     2.500000     3.200000   \n",
       "6    27.001801       26.855440  ...     2.923226     6.268086     8.017785   \n",
       "7          NaN             NaN  ...     1.100000     3.500000     4.900000   \n",
       "8    38.021290       39.659691  ...     1.000000     2.300000     2.700000   \n",
       "9          NaN             NaN  ...          NaN          NaN          NaN   \n",
       "\n",
       "   SL.TLF.TOTL.FE.ZS  SL.TLF.TOTL.IN  SL.UEM.TOTL.FE.ZS  SL.UEM.TOTL.MA.ZS  \\\n",
       "0          21.247021      10319282.0          13.920000          10.290000   \n",
       "1          42.190687       1400072.0          11.870000          12.620000   \n",
       "2          20.126974      12589369.0          20.490000           9.720000   \n",
       "3                NaN             NaN                NaN                NaN   \n",
       "4          50.202910      12705650.0           7.280000           6.720000   \n",
       "5                NaN             NaN                NaN                NaN   \n",
       "6          20.368759     134761988.0          19.903642           7.788688   \n",
       "7          43.001857      20551682.0          10.540000           8.230000   \n",
       "8          44.231575       1245626.0          20.400000          17.830000   \n",
       "9                NaN             NaN                NaN                NaN   \n",
       "\n",
       "   SL.UEM.TOTL.ZS  SP.POP.0014.TO.ZS  SP.POP.1564.TO.ZS  \n",
       "0       11.060000          43.090176          54.324898  \n",
       "1       12.300000          17.672874          68.582390  \n",
       "2       11.890000          30.148679          63.488825  \n",
       "3             NaN                NaN                NaN  \n",
       "4        7.000000          46.808925          50.974702  \n",
       "5             NaN          22.081092          69.119083  \n",
       "6       10.256798          32.780436          62.661687  \n",
       "7        9.220000          24.760934          64.121277  \n",
       "8       18.969999          20.633422          68.112760  \n",
       "9             NaN          17.802447          68.646606  \n",
       "\n",
       "[10 rows x 94 columns]"
      ],
      "text/html": "<div>\n<style scoped>\n    .dataframe tbody tr th:only-of-type {\n        vertical-align: middle;\n    }\n\n    .dataframe tbody tr th {\n        vertical-align: top;\n    }\n\n    .dataframe thead th {\n        text-align: right;\n    }\n</style>\n<table border=\"1\" class=\"dataframe\">\n  <thead>\n    <tr style=\"text-align: right;\">\n      <th></th>\n      <th>Country</th>\n      <th>SE.COM.DURS</th>\n      <th>SE.ENR.PRIM.FM.ZS</th>\n      <th>SE.ENR.PRSC.FM.ZS</th>\n      <th>SE.ENR.SECO.FM.ZS</th>\n      <th>SE.ENR.TERT.FM.ZS</th>\n      <th>SE.PRE.DURS</th>\n      <th>SE.PRE.ENRL.TC.ZS</th>\n      <th>SE.PRE.ENRR</th>\n      <th>SE.PRE.ENRR.FE</th>\n      <th>...</th>\n      <th>SH.DYN.1014</th>\n      <th>SH.DYN.1519</th>\n      <th>SH.DYN.2024</th>\n      <th>SL.TLF.TOTL.FE.ZS</th>\n      <th>SL.TLF.TOTL.IN</th>\n      <th>SL.UEM.TOTL.FE.ZS</th>\n      <th>SL.UEM.TOTL.MA.ZS</th>\n      <th>SL.UEM.TOTL.ZS</th>\n      <th>SP.POP.0014.TO.ZS</th>\n      <th>SP.POP.1564.TO.ZS</th>\n    </tr>\n  </thead>\n  <tbody>\n    <tr>\n      <th>0</th>\n      <td>Afghanistan</td>\n      <td>9.0</td>\n      <td>0.66691</td>\n      <td>0.63602</td>\n      <td>0.57098</td>\n      <td>0.34523</td>\n      <td>1.0</td>\n      <td>NaN</td>\n      <td>NaN</td>\n      <td>NaN</td>\n      <td>...</td>\n      <td>2.000000</td>\n      <td>13.800000</td>\n      <td>17.600000</td>\n      <td>21.247021</td>\n      <td>10319282.0</td>\n      <td>13.920000</td>\n      <td>10.290000</td>\n      <td>11.060000</td>\n      <td>43.090176</td>\n      <td>54.324898</td>\n    </tr>\n    <tr>\n      <th>1</th>\n      <td>Albania</td>\n      <td>9.0</td>\n      <td>1.03765</td>\n      <td>1.01730</td>\n      <td>1.00539</td>\n      <td>1.36299</td>\n      <td>5.0</td>\n      <td>17.09409</td>\n      <td>80.498734</td>\n      <td>80.790977</td>\n      <td>...</td>\n      <td>1.100000</td>\n      <td>1.800000</td>\n      <td>1.900000</td>\n      <td>42.190687</td>\n      <td>1400072.0</td>\n      <td>11.870000</td>\n      <td>12.620000</td>\n      <td>12.300000</td>\n      <td>17.672874</td>\n      <td>68.582390</td>\n    </tr>\n    <tr>\n      <th>2</th>\n      <td>Algeria</td>\n      <td>10.0</td>\n      <td>0.95499</td>\n      <td>NaN</td>\n      <td>NaN</td>\n      <td>1.39722</td>\n      <td>1.0</td>\n      <td>NaN</td>\n      <td>NaN</td>\n      <td>NaN</td>\n      <td>...</td>\n      <td>1.700000</td>\n      <td>2.700000</td>\n      <td>3.300000</td>\n      <td>20.126974</td>\n      <td>12589369.0</td>\n      <td>20.490000</td>\n      <td>9.720000</td>\n      <td>11.890000</td>\n      <td>30.148679</td>\n      <td>63.488825</td>\n    </tr>\n    <tr>\n      <th>3</th>\n      <td>Andorra</td>\n      <td>10.0</td>\n      <td>NaN</td>\n      <td>NaN</td>\n      <td>NaN</td>\n      <td>NaN</td>\n      <td>3.0</td>\n      <td>13.27711</td>\n      <td>NaN</td>\n      <td>NaN</td>\n      <td>...</td>\n      <td>0.500000</td>\n      <td>1.400000</td>\n      <td>2.100000</td>\n      <td>NaN</td>\n      <td>NaN</td>\n      <td>NaN</td>\n      <td>NaN</td>\n      <td>NaN</td>\n      <td>NaN</td>\n      <td>NaN</td>\n    </tr>\n    <tr>\n      <th>4</th>\n      <td>Angola</td>\n      <td>6.0</td>\n      <td>NaN</td>\n      <td>NaN</td>\n      <td>NaN</td>\n      <td>NaN</td>\n      <td>5.0</td>\n      <td>NaN</td>\n      <td>NaN</td>\n      <td>NaN</td>\n      <td>...</td>\n      <td>6.400000</td>\n      <td>13.100000</td>\n      <td>19.900000</td>\n      <td>50.202910</td>\n      <td>12705650.0</td>\n      <td>7.280000</td>\n      <td>6.720000</td>\n      <td>7.000000</td>\n      <td>46.808925</td>\n      <td>50.974702</td>\n    </tr>\n    <tr>\n      <th>5</th>\n      <td>Antigua and Barbuda</td>\n      <td>11.0</td>\n      <td>0.99208</td>\n      <td>0.97924</td>\n      <td>0.96286</td>\n      <td>NaN</td>\n      <td>5.0</td>\n      <td>NaN</td>\n      <td>70.253601</td>\n      <td>74.025070</td>\n      <td>...</td>\n      <td>1.000000</td>\n      <td>2.500000</td>\n      <td>3.200000</td>\n      <td>NaN</td>\n      <td>NaN</td>\n      <td>NaN</td>\n      <td>NaN</td>\n      <td>NaN</td>\n      <td>22.081092</td>\n      <td>69.119083</td>\n    </tr>\n    <tr>\n      <th>6</th>\n      <td>Arab World</td>\n      <td>9.0</td>\n      <td>0.94617</td>\n      <td>0.94833</td>\n      <td>0.95186</td>\n      <td>1.09935</td>\n      <td>3.0</td>\n      <td>21.16757</td>\n      <td>27.001801</td>\n      <td>26.855440</td>\n      <td>...</td>\n      <td>2.923226</td>\n      <td>6.268086</td>\n      <td>8.017785</td>\n      <td>20.368759</td>\n      <td>134761988.0</td>\n      <td>19.903642</td>\n      <td>7.788688</td>\n      <td>10.256798</td>\n      <td>32.780436</td>\n      <td>62.661687</td>\n    </tr>\n    <tr>\n      <th>7</th>\n      <td>Argentina</td>\n      <td>14.0</td>\n      <td>NaN</td>\n      <td>NaN</td>\n      <td>NaN</td>\n      <td>NaN</td>\n      <td>6.0</td>\n      <td>NaN</td>\n      <td>NaN</td>\n      <td>NaN</td>\n      <td>...</td>\n      <td>1.100000</td>\n      <td>3.500000</td>\n      <td>4.900000</td>\n      <td>43.001857</td>\n      <td>20551682.0</td>\n      <td>10.540000</td>\n      <td>8.230000</td>\n      <td>9.220000</td>\n      <td>24.760934</td>\n      <td>64.121277</td>\n    </tr>\n    <tr>\n      <th>8</th>\n      <td>Armenia</td>\n      <td>12.0</td>\n      <td>0.99961</td>\n      <td>1.02283</td>\n      <td>1.03762</td>\n      <td>1.24788</td>\n      <td>3.0</td>\n      <td>6.27090</td>\n      <td>38.021290</td>\n      <td>39.659691</td>\n      <td>...</td>\n      <td>1.000000</td>\n      <td>2.300000</td>\n      <td>2.700000</td>\n      <td>44.231575</td>\n      <td>1245626.0</td>\n      <td>20.400000</td>\n      <td>17.830000</td>\n      <td>18.969999</td>\n      <td>20.633422</td>\n      <td>68.112760</td>\n    </tr>\n    <tr>\n      <th>9</th>\n      <td>Aruba</td>\n      <td>13.0</td>\n      <td>NaN</td>\n      <td>NaN</td>\n      <td>NaN</td>\n      <td>NaN</td>\n      <td>2.0</td>\n      <td>NaN</td>\n      <td>NaN</td>\n      <td>NaN</td>\n      <td>...</td>\n      <td>NaN</td>\n      <td>NaN</td>\n      <td>NaN</td>\n      <td>NaN</td>\n      <td>NaN</td>\n      <td>NaN</td>\n      <td>NaN</td>\n      <td>NaN</td>\n      <td>17.802447</td>\n      <td>68.646606</td>\n    </tr>\n  </tbody>\n</table>\n<p>10 rows × 94 columns</p>\n</div>"
     },
     "metadata": {},
     "execution_count": 5
    }
   ],
   "source": [
    "worldbank.shape\n",
    "worldbank.head(10)"
   ]
  },
  {
   "source": [
    "### Next I will be selecting only certain columns I want to look at: Country, Pupil-Teacher Ratio in Primary School, and Persistence to Last Grade in Primary School. I will again select the first 10 rows to make sure this is correct."
   ],
   "cell_type": "markdown",
   "metadata": {}
  },
  {
   "cell_type": "code",
   "execution_count": 9,
   "metadata": {},
   "outputs": [
    {
     "output_type": "execute_result",
     "data": {
      "text/plain": [
       "               Country  SE.PRM.ENRL.TC.ZS  SE.PRM.PRSL.ZS\n",
       "0          Afghanistan           48.78979             NaN\n",
       "1              Albania           17.57287       89.046181\n",
       "2              Algeria           24.32018       91.557251\n",
       "3              Andorra           10.49757       68.161774\n",
       "4               Angola                NaN             NaN\n",
       "5  Antigua and Barbuda           12.40564             NaN\n",
       "6           Arab World           20.78495       81.550210\n",
       "7            Argentina                NaN             NaN\n",
       "8              Armenia           15.41859       95.968178\n",
       "9                Aruba                NaN             NaN"
      ],
      "text/html": "<div>\n<style scoped>\n    .dataframe tbody tr th:only-of-type {\n        vertical-align: middle;\n    }\n\n    .dataframe tbody tr th {\n        vertical-align: top;\n    }\n\n    .dataframe thead th {\n        text-align: right;\n    }\n</style>\n<table border=\"1\" class=\"dataframe\">\n  <thead>\n    <tr style=\"text-align: right;\">\n      <th></th>\n      <th>Country</th>\n      <th>SE.PRM.ENRL.TC.ZS</th>\n      <th>SE.PRM.PRSL.ZS</th>\n    </tr>\n  </thead>\n  <tbody>\n    <tr>\n      <th>0</th>\n      <td>Afghanistan</td>\n      <td>48.78979</td>\n      <td>NaN</td>\n    </tr>\n    <tr>\n      <th>1</th>\n      <td>Albania</td>\n      <td>17.57287</td>\n      <td>89.046181</td>\n    </tr>\n    <tr>\n      <th>2</th>\n      <td>Algeria</td>\n      <td>24.32018</td>\n      <td>91.557251</td>\n    </tr>\n    <tr>\n      <th>3</th>\n      <td>Andorra</td>\n      <td>10.49757</td>\n      <td>68.161774</td>\n    </tr>\n    <tr>\n      <th>4</th>\n      <td>Angola</td>\n      <td>NaN</td>\n      <td>NaN</td>\n    </tr>\n    <tr>\n      <th>5</th>\n      <td>Antigua and Barbuda</td>\n      <td>12.40564</td>\n      <td>NaN</td>\n    </tr>\n    <tr>\n      <th>6</th>\n      <td>Arab World</td>\n      <td>20.78495</td>\n      <td>81.550210</td>\n    </tr>\n    <tr>\n      <th>7</th>\n      <td>Argentina</td>\n      <td>NaN</td>\n      <td>NaN</td>\n    </tr>\n    <tr>\n      <th>8</th>\n      <td>Armenia</td>\n      <td>15.41859</td>\n      <td>95.968178</td>\n    </tr>\n    <tr>\n      <th>9</th>\n      <td>Aruba</td>\n      <td>NaN</td>\n      <td>NaN</td>\n    </tr>\n  </tbody>\n</table>\n</div>"
     },
     "metadata": {},
     "execution_count": 9
    }
   ],
   "source": [
    "country_ratio_persistence = worldbank[[\"Country\", \"SE.PRM.ENRL.TC.ZS\", \"SE.PRM.PRSL.ZS\"]]\n",
    "country_ratio_persistence.head(10)"
   ]
  },
  {
   "source": [
    "### Then, I will be selecting rows with complete data and checking by displaying the first 10 rows of the narrowed data set."
   ],
   "cell_type": "markdown",
   "metadata": {}
  },
  {
   "cell_type": "code",
   "execution_count": 16,
   "metadata": {},
   "outputs": [
    {
     "output_type": "error",
     "ename": "KeyError",
     "evalue": "('SE.PRM.ENRL.TC.ZS', 'SE.PRM.PRSL.ZS')",
     "traceback": [
      "\u001b[0;31m---------------------------------------------------------------------------\u001b[0m",
      "\u001b[0;31mKeyError\u001b[0m                                  Traceback (most recent call last)",
      "\u001b[0;32m/Library/Frameworks/Python.framework/Versions/3.9/lib/python3.9/site-packages/pandas/core/indexes/base.py\u001b[0m in \u001b[0;36mget_loc\u001b[0;34m(self, key, method, tolerance)\u001b[0m\n\u001b[1;32m   3079\u001b[0m             \u001b[0;32mtry\u001b[0m\u001b[0;34m:\u001b[0m\u001b[0;34m\u001b[0m\u001b[0;34m\u001b[0m\u001b[0m\n\u001b[0;32m-> 3080\u001b[0;31m                 \u001b[0;32mreturn\u001b[0m \u001b[0mself\u001b[0m\u001b[0;34m.\u001b[0m\u001b[0m_engine\u001b[0m\u001b[0;34m.\u001b[0m\u001b[0mget_loc\u001b[0m\u001b[0;34m(\u001b[0m\u001b[0mcasted_key\u001b[0m\u001b[0;34m)\u001b[0m\u001b[0;34m\u001b[0m\u001b[0;34m\u001b[0m\u001b[0m\n\u001b[0m\u001b[1;32m   3081\u001b[0m             \u001b[0;32mexcept\u001b[0m \u001b[0mKeyError\u001b[0m \u001b[0;32mas\u001b[0m \u001b[0merr\u001b[0m\u001b[0;34m:\u001b[0m\u001b[0;34m\u001b[0m\u001b[0;34m\u001b[0m\u001b[0m\n",
      "\u001b[0;32mpandas/_libs/index.pyx\u001b[0m in \u001b[0;36mpandas._libs.index.IndexEngine.get_loc\u001b[0;34m()\u001b[0m\n",
      "\u001b[0;32mpandas/_libs/index.pyx\u001b[0m in \u001b[0;36mpandas._libs.index.IndexEngine.get_loc\u001b[0;34m()\u001b[0m\n",
      "\u001b[0;32mpandas/_libs/hashtable_class_helper.pxi\u001b[0m in \u001b[0;36mpandas._libs.hashtable.PyObjectHashTable.get_item\u001b[0;34m()\u001b[0m\n",
      "\u001b[0;32mpandas/_libs/hashtable_class_helper.pxi\u001b[0m in \u001b[0;36mpandas._libs.hashtable.PyObjectHashTable.get_item\u001b[0;34m()\u001b[0m\n",
      "\u001b[0;31mKeyError\u001b[0m: ('SE.PRM.ENRL.TC.ZS', 'SE.PRM.PRSL.ZS')",
      "\nThe above exception was the direct cause of the following exception:\n",
      "\u001b[0;31mKeyError\u001b[0m                                  Traceback (most recent call last)",
      "\u001b[0;32m<ipython-input-16-0f7c614798a9>\u001b[0m in \u001b[0;36m<module>\u001b[0;34m\u001b[0m\n\u001b[0;32m----> 1\u001b[0;31m \u001b[0mfixed_data\u001b[0m \u001b[0;34m=\u001b[0m \u001b[0mcountry_ratio_persistence\u001b[0m\u001b[0;34m[\u001b[0m\u001b[0mcountry_ratio_persistence\u001b[0m\u001b[0;34m[\u001b[0m\u001b[0;34m\"SE.PRM.ENRL.TC.ZS\"\u001b[0m\u001b[0;34m,\u001b[0m \u001b[0;34m\"SE.PRM.PRSL.ZS\"\u001b[0m\u001b[0;34m]\u001b[0m\u001b[0;34m.\u001b[0m\u001b[0mnotna\u001b[0m\u001b[0;34m(\u001b[0m\u001b[0;34m)\u001b[0m\u001b[0;34m]\u001b[0m\u001b[0;34m\u001b[0m\u001b[0;34m\u001b[0m\u001b[0m\n\u001b[0m\u001b[1;32m      2\u001b[0m \u001b[0mfixed_data\u001b[0m\u001b[0;34m.\u001b[0m\u001b[0mshape\u001b[0m\u001b[0;34m\u001b[0m\u001b[0;34m\u001b[0m\u001b[0m\n\u001b[1;32m      3\u001b[0m \u001b[0mfixed_data\u001b[0m\u001b[0;34m.\u001b[0m\u001b[0mhead\u001b[0m\u001b[0;34m(\u001b[0m\u001b[0;36m10\u001b[0m\u001b[0;34m)\u001b[0m\u001b[0;34m\u001b[0m\u001b[0;34m\u001b[0m\u001b[0m\n",
      "\u001b[0;32m/Library/Frameworks/Python.framework/Versions/3.9/lib/python3.9/site-packages/pandas/core/frame.py\u001b[0m in \u001b[0;36m__getitem__\u001b[0;34m(self, key)\u001b[0m\n\u001b[1;32m   3022\u001b[0m             \u001b[0;32mif\u001b[0m \u001b[0mself\u001b[0m\u001b[0;34m.\u001b[0m\u001b[0mcolumns\u001b[0m\u001b[0;34m.\u001b[0m\u001b[0mnlevels\u001b[0m \u001b[0;34m>\u001b[0m \u001b[0;36m1\u001b[0m\u001b[0;34m:\u001b[0m\u001b[0;34m\u001b[0m\u001b[0;34m\u001b[0m\u001b[0m\n\u001b[1;32m   3023\u001b[0m                 \u001b[0;32mreturn\u001b[0m \u001b[0mself\u001b[0m\u001b[0;34m.\u001b[0m\u001b[0m_getitem_multilevel\u001b[0m\u001b[0;34m(\u001b[0m\u001b[0mkey\u001b[0m\u001b[0;34m)\u001b[0m\u001b[0;34m\u001b[0m\u001b[0;34m\u001b[0m\u001b[0m\n\u001b[0;32m-> 3024\u001b[0;31m             \u001b[0mindexer\u001b[0m \u001b[0;34m=\u001b[0m \u001b[0mself\u001b[0m\u001b[0;34m.\u001b[0m\u001b[0mcolumns\u001b[0m\u001b[0;34m.\u001b[0m\u001b[0mget_loc\u001b[0m\u001b[0;34m(\u001b[0m\u001b[0mkey\u001b[0m\u001b[0;34m)\u001b[0m\u001b[0;34m\u001b[0m\u001b[0;34m\u001b[0m\u001b[0m\n\u001b[0m\u001b[1;32m   3025\u001b[0m             \u001b[0;32mif\u001b[0m \u001b[0mis_integer\u001b[0m\u001b[0;34m(\u001b[0m\u001b[0mindexer\u001b[0m\u001b[0;34m)\u001b[0m\u001b[0;34m:\u001b[0m\u001b[0;34m\u001b[0m\u001b[0;34m\u001b[0m\u001b[0m\n\u001b[1;32m   3026\u001b[0m                 \u001b[0mindexer\u001b[0m \u001b[0;34m=\u001b[0m \u001b[0;34m[\u001b[0m\u001b[0mindexer\u001b[0m\u001b[0;34m]\u001b[0m\u001b[0;34m\u001b[0m\u001b[0;34m\u001b[0m\u001b[0m\n",
      "\u001b[0;32m/Library/Frameworks/Python.framework/Versions/3.9/lib/python3.9/site-packages/pandas/core/indexes/base.py\u001b[0m in \u001b[0;36mget_loc\u001b[0;34m(self, key, method, tolerance)\u001b[0m\n\u001b[1;32m   3080\u001b[0m                 \u001b[0;32mreturn\u001b[0m \u001b[0mself\u001b[0m\u001b[0;34m.\u001b[0m\u001b[0m_engine\u001b[0m\u001b[0;34m.\u001b[0m\u001b[0mget_loc\u001b[0m\u001b[0;34m(\u001b[0m\u001b[0mcasted_key\u001b[0m\u001b[0;34m)\u001b[0m\u001b[0;34m\u001b[0m\u001b[0;34m\u001b[0m\u001b[0m\n\u001b[1;32m   3081\u001b[0m             \u001b[0;32mexcept\u001b[0m \u001b[0mKeyError\u001b[0m \u001b[0;32mas\u001b[0m \u001b[0merr\u001b[0m\u001b[0;34m:\u001b[0m\u001b[0;34m\u001b[0m\u001b[0;34m\u001b[0m\u001b[0m\n\u001b[0;32m-> 3082\u001b[0;31m                 \u001b[0;32mraise\u001b[0m \u001b[0mKeyError\u001b[0m\u001b[0;34m(\u001b[0m\u001b[0mkey\u001b[0m\u001b[0;34m)\u001b[0m \u001b[0;32mfrom\u001b[0m \u001b[0merr\u001b[0m\u001b[0;34m\u001b[0m\u001b[0;34m\u001b[0m\u001b[0m\n\u001b[0m\u001b[1;32m   3083\u001b[0m \u001b[0;34m\u001b[0m\u001b[0m\n\u001b[1;32m   3084\u001b[0m         \u001b[0;32mif\u001b[0m \u001b[0mtolerance\u001b[0m \u001b[0;32mis\u001b[0m \u001b[0;32mnot\u001b[0m \u001b[0;32mNone\u001b[0m\u001b[0;34m:\u001b[0m\u001b[0;34m\u001b[0m\u001b[0;34m\u001b[0m\u001b[0m\n",
      "\u001b[0;31mKeyError\u001b[0m: ('SE.PRM.ENRL.TC.ZS', 'SE.PRM.PRSL.ZS')"
     ]
    }
   ],
   "source": [
    "fixed_data = country_ratio_persistence[country_ratio_persistence[\"SE.PRM.ENRL.TC.ZS\", \"SE.PRM.PRSL.ZS\"].notna()]\n",
    "fixed_data.shape\n",
    "fixed_data.head(10)"
   ]
  },
  {
   "cell_type": "code",
   "execution_count": null,
   "metadata": {},
   "outputs": [],
   "source": []
  }
 ]
}