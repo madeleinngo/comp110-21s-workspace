{
 "metadata": {
  "language_info": {
   "codemirror_mode": {
    "name": "ipython",
    "version": 3
   },
   "file_extension": ".py",
   "mimetype": "text/x-python",
   "name": "python",
   "nbconvert_exporter": "python",
   "pygments_lexer": "ipython3",
   "version": "3.9.1-final"
  },
  "orig_nbformat": 2,
  "kernelspec": {
   "name": "python3",
   "display_name": "Python 3.9.1 64-bit",
   "metadata": {
    "interpreter": {
     "hash": "aee8b7b246df8f9039afb4144a1f6fd8d2ca17a180786b69acc140d282b71a49"
    }
   }
  }
 },
 "nbformat": 4,
 "nbformat_minor": 2,
 "cells": [
  {
   "source": [
    "# Hypothesis: Students that develop their own examples of how a concept works are more likely to intend to major in CS.\n",
    "\n",
    "First, I will read in the csv and convert it into a column-oriented data table."
   ],
   "cell_type": "markdown",
   "metadata": {}
  },
  {
   "cell_type": "code",
   "execution_count": 3,
   "metadata": {},
   "outputs": [],
   "source": [
    "from data_utils import read_csv_rows, columnar\n",
    "\n",
    "data_rows: list[dict[str, str]] = read_csv_rows(\"../../data/survey.csv\")\n",
    "columns: dict[str, list[str]] = columnar(data_rows)"
   ]
  },
  {
   "source": [
    "### For this hypothesis, I need to select the own_example variable and the comp_major variable. "
   ],
   "cell_type": "markdown",
   "metadata": {}
  },
  {
   "cell_type": "code",
   "execution_count": null,
   "metadata": {},
   "outputs": [],
   "source": [
    "from data_utils import select\n",
    "\n",
    "selected_data: dict[str, list[str]] = select(data_cols, [\"own_example\", \"comp_major\"])\n",
    "\n",
    "tabulate(head(selected_data, 10), selected_data.keys(), \"html\")"
   ]
  },
  {
   "source": [
    "### Next, I will make a mask to filter out students who developed their own example of how a concept works from inputs 3 to 7 as being more likely."
   ],
   "cell_type": "markdown",
   "metadata": {}
  },
  {
   "cell_type": "code",
   "execution_count": null,
   "metadata": {},
   "outputs": [],
   "source": [
    "def more_likely(col: list[int], threshold: int) -> list[bool]:\n",
    "    result: bool[] = []\n",
    "    for item in col:\n",
    "        result.append(item >= threshold)\n",
    "    return result"
   ]
  },
  {
   "source": [
    "### Here is the own_example variable being masked with the more_likely function"
   ],
   "cell_type": "markdown",
   "metadata": {}
  },
  {
   "cell_type": "code",
   "execution_count": null,
   "metadata": {},
   "outputs": [],
   "source": [
    "def masked(col: list[int], mask: list[bool]) -> list[int]:\n",
    "    result: list[int] = []\n",
    "    for i in range(len(mask)):\n",
    "        if mask[i]:\n",
    "            result.append(col[i])\n",
    "    return result"
   ]
  },
  {
   "source": [
    "### I will make another mask to filter out those who do not intend to major or minor in CS."
   ],
   "cell_type": "markdown",
   "metadata": {}
  },
  {
   "cell_type": "code",
   "execution_count": null,
   "metadata": {},
   "outputs": [],
   "source": []
  },
  {
   "source": [
    "### Here's some data visualization - I made a barplot and a bar graph."
   ],
   "cell_type": "markdown",
   "metadata": {}
  }
 ]
}