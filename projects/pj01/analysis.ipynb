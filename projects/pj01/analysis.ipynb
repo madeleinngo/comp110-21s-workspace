{
 "metadata": {
  "language_info": {
   "codemirror_mode": {
    "name": "ipython",
    "version": 3
   },
   "file_extension": ".py",
   "mimetype": "text/x-python",
   "name": "python",
   "nbconvert_exporter": "python",
   "pygments_lexer": "ipython3",
   "version": "3.9.1-final"
  },
  "orig_nbformat": 2,
  "kernelspec": {
   "name": "python3",
   "display_name": "Python 3.9.1 64-bit",
   "metadata": {
    "interpreter": {
     "hash": "aee8b7b246df8f9039afb4144a1f6fd8d2ca17a180786b69acc140d282b71a49"
    }
   }
  }
 },
 "nbformat": 4,
 "nbformat_minor": 2,
 "cells": [
  {
   "source": [
    "# Hypothesis: Students that more often develop their own examples of how a concept works intend to major in CS.\n",
    "\n",
    "First, I will read in the csv and convert it into a column-oriented data table."
   ],
   "cell_type": "markdown",
   "metadata": {}
  },
  {
   "cell_type": "code",
   "execution_count": 8,
   "metadata": {},
   "outputs": [],
   "source": [
    "DATA_DIRECTORY=\"../../data\"\n",
    "DATA_FILE_PATH=f\"{DATA_DIRECTORY}/survey.csv\""
   ]
  },
  {
   "cell_type": "code",
   "execution_count": 9,
   "metadata": {},
   "outputs": [
    {
     "output_type": "stream",
     "name": "stdout",
     "text": [
      "Data File Read: ../../data/survey.csv\n502 rows\n36 columns\nColumns names: dict_keys(['row_number', 'year', 'unc_status', 'comp_major', 'primary_major', 'prereqs', 'prior_exp', 'AP_Principles', 'AP_A', 'other_comp', 'prior_time', 'languages', 'residency', 'on_campus', 'international', 'section', 'lesson_time', 'sync_perf', 'all_sync', 'own_notes', 'own_examples', 'oh_visits', 'ls_effective', 'lsqs_effective', 'programming_effective', 'qz_effective', 'oh_effective', 'tutoring_effective', 'kaki_effective', 'pace', 'difficulty', 'understanding', 'interested', 'valuable', 'grade', 'would_recommend'])\n"
     ]
    }
   ],
   "source": [
    "from data_utils import read_csv_rows\n",
    "\n",
    "data_rows: list[dict[str, str]] = read_csv_rows(DATA_FILE_PATH)\n",
    "\n",
    "if len(data_rows) == 0:\n",
    "    print(\"Go implement read_csv_rows in data_utils.py\")\n",
    "    print(\"Be sure to save your work before re-evaluating this cell!\")\n",
    "else:\n",
    "    print(f\"Data File Read: {DATA_FILE_PATH}\")\n",
    "    print(f\"{len(data_rows)} rows\")\n",
    "    print(f\"{len(data_rows[0].keys())} columns\")\n",
    "    print(f\"Columns names: {data_rows[0].keys()}\")"
   ]
  },
  {
   "cell_type": "code",
   "execution_count": 10,
   "metadata": {},
   "outputs": [
    {
     "output_type": "stream",
     "name": "stdout",
     "text": [
      "Column 'comp_major' has 502 values.\nThe first five values are:\nNo\nNo\nNo\nNo\nYes - BS\n"
     ]
    }
   ],
   "source": [
    "from data_utils import column_values\n",
    "\n",
    "comp_major: list[str] = column_values(data_rows, \"comp_major\")\n",
    "\n",
    "if len(comp_major) == 0:\n",
    "    print(\"Complete your implementation of column_values in data_utils.py\")\n",
    "    print(\"Be sure to follow the guidelines above and save your work before re-evaluating!\")\n",
    "else:\n",
    "    print(f\"Column 'comp_major' has {len(comp_major)} values.\")\n",
    "    print(\"The first five values are:\")\n",
    "    for i in range(5):\n",
    "        print(comp_major[i])"
   ]
  },
  {
   "cell_type": "code",
   "execution_count": 13,
   "metadata": {},
   "outputs": [
    {
     "output_type": "stream",
     "name": "stdout",
     "text": [
      "36 columns\n502 rows\nColumns names: dict_keys(['row_number', 'year', 'unc_status', 'comp_major', 'primary_major', 'prereqs', 'prior_exp', 'AP_Principles', 'AP_A', 'other_comp', 'prior_time', 'languages', 'residency', 'on_campus', 'international', 'section', 'lesson_time', 'sync_perf', 'all_sync', 'own_notes', 'own_examples', 'oh_visits', 'ls_effective', 'lsqs_effective', 'programming_effective', 'qz_effective', 'oh_effective', 'tutoring_effective', 'kaki_effective', 'pace', 'difficulty', 'understanding', 'interested', 'valuable', 'grade', 'would_recommend'])\n"
     ]
    }
   ],
   "source": [
    "from data_utils import columnar\n",
    "\n",
    "data_cols: dict[str, list[str]] = columnar(data_rows)\n",
    "\n",
    "if len(data_cols.keys()) == 0:\n",
    "    print(\"Complete your implementation of columnar in data_utils.py\")\n",
    "    print(\"Be sure to follow the guidelines above and save your work before re-evaluating!\")\n",
    "else:\n",
    "    print(f\"{len(data_cols.keys())} columns\")\n",
    "    print(f\"{len(data_cols['comp_major'])} rows\")\n",
    "    print(f\"Columns names: {data_cols.keys()}\")"
   ]
  },
  {
   "source": [
    "### Here I am checking to see if I correctly made a column-oriented table."
   ],
   "cell_type": "markdown",
   "metadata": {}
  },
  {
   "cell_type": "code",
   "execution_count": 14,
   "metadata": {},
   "outputs": [
    {
     "output_type": "execute_result",
     "data": {
      "text/plain": [
       "'<table>\\n<thead>\\n<tr><th style=\"text-align: right;\">  row_number</th><th style=\"text-align: right;\">  year</th><th>unc_status                 </th><th>comp_major  </th><th>primary_major   </th><th>prereqs                                                    </th><th>prior_exp  </th><th>AP_Principles  </th><th>AP_A  </th><th>other_comp                      </th><th>prior_time                  </th><th>languages                                           </th><th>residency   </th><th>on_campus  </th><th>international                   </th><th>section                          </th><th style=\"text-align: right;\">  lesson_time</th><th style=\"text-align: right;\">  sync_perf</th><th style=\"text-align: right;\">  all_sync</th><th style=\"text-align: right;\">  own_notes</th><th style=\"text-align: right;\">  own_examples</th><th style=\"text-align: right;\">  oh_visits</th><th style=\"text-align: right;\">  ls_effective</th><th style=\"text-align: right;\">  lsqs_effective</th><th style=\"text-align: right;\">  programming_effective</th><th style=\"text-align: right;\">  qz_effective</th><th>oh_effective  </th><th>tutoring_effective  </th><th>kaki_effective  </th><th style=\"text-align: right;\">  pace</th><th style=\"text-align: right;\">  difficulty</th><th style=\"text-align: right;\">  understanding</th><th style=\"text-align: right;\">  interested</th><th style=\"text-align: right;\">  valuable</th><th>grade  </th><th style=\"text-align: right;\">  would_recommend</th></tr>\\n</thead>\\n<tbody>\\n<tr><td style=\"text-align: right;\">           0</td><td style=\"text-align: right;\">    21</td><td>Returning UNC Student      </td><td>No          </td><td>Public Health   </td><td>MATH 231, MATH 232, MATH 233, STOR 155                     </td><td>1-2 years  </td><td>No             </td><td>No    </td><td>UNC                             </td><td>1 month or so               </td><td>Python, R / Matlab / SAS, Other                     </td><td>Out-of-state</td><td>Yes        </td><td>I am living in the United States</td><td>Section 2 - 5:00pm - Async       </td><td style=\"text-align: right;\">            1</td><td style=\"text-align: right;\">          3</td><td style=\"text-align: right;\">         3</td><td style=\"text-align: right;\">          7</td><td style=\"text-align: right;\">             4</td><td style=\"text-align: right;\">          2</td><td style=\"text-align: right;\">             3</td><td style=\"text-align: right;\">               5</td><td style=\"text-align: right;\">                      3</td><td style=\"text-align: right;\">             4</td><td>7             </td><td>3                   </td><td>4               </td><td style=\"text-align: right;\">     5</td><td style=\"text-align: right;\">           5</td><td style=\"text-align: right;\">              5</td><td style=\"text-align: right;\">           7</td><td style=\"text-align: right;\">         7</td><td>A      </td><td style=\"text-align: right;\">                6</td></tr>\\n<tr><td style=\"text-align: right;\">           1</td><td style=\"text-align: right;\">    23</td><td>Returning UNC Student      </td><td>No          </td><td>Statistics      </td><td>MATH 130, MATH 231, STOR 120, STOR 151                     </td><td>2-6 months </td><td>No             </td><td>No    </td><td>UNC                             </td><td>None to less than one month!</td><td>Python                                              </td><td>In-state    </td><td>Yes        </td><td>I am living in the United States</td><td>Section 1 - 3:30pm - Sync + Async</td><td style=\"text-align: right;\">            1</td><td style=\"text-align: right;\">          4</td><td style=\"text-align: right;\">         3</td><td style=\"text-align: right;\">          6</td><td style=\"text-align: right;\">             1</td><td style=\"text-align: right;\">          5</td><td style=\"text-align: right;\">             5</td><td style=\"text-align: right;\">               2</td><td style=\"text-align: right;\">                      3</td><td style=\"text-align: right;\">             7</td><td>7             </td><td>                    </td><td>7               </td><td style=\"text-align: right;\">     7</td><td style=\"text-align: right;\">           7</td><td style=\"text-align: right;\">              3</td><td style=\"text-align: right;\">           7</td><td style=\"text-align: right;\">         7</td><td>B      </td><td style=\"text-align: right;\">                7</td></tr>\\n<tr><td style=\"text-align: right;\">           2</td><td style=\"text-align: right;\">    23</td><td>Returning UNC Student      </td><td>No          </td><td>Statistics      </td><td>MATH 130, MATH 231, STOR 120, STOR 151                     </td><td>2-6 months </td><td>No             </td><td>No    </td><td>UNC                             </td><td>None to less than one month!</td><td>Python                                              </td><td>In-state    </td><td>Yes        </td><td>I am living in the United States</td><td>Section 1 - 3:30pm - Sync + Async</td><td style=\"text-align: right;\">            1</td><td style=\"text-align: right;\">          4</td><td style=\"text-align: right;\">         3</td><td style=\"text-align: right;\">          6</td><td style=\"text-align: right;\">             1</td><td style=\"text-align: right;\">          5</td><td style=\"text-align: right;\">             5</td><td style=\"text-align: right;\">               2</td><td style=\"text-align: right;\">                      3</td><td style=\"text-align: right;\">             7</td><td>7             </td><td>                    </td><td>7               </td><td style=\"text-align: right;\">     7</td><td style=\"text-align: right;\">           7</td><td style=\"text-align: right;\">              3</td><td style=\"text-align: right;\">           7</td><td style=\"text-align: right;\">         7</td><td>B      </td><td style=\"text-align: right;\">                7</td></tr>\\n<tr><td style=\"text-align: right;\">           3</td><td style=\"text-align: right;\">    23</td><td>Incoming Transfer Student  </td><td>No          </td><td>Sociology       </td><td>MATH 231, MATH 232, MATH 233, MATH 347, MATH 381, STOR 155 </td><td>2-6 months </td><td>No             </td><td>No    </td><td>On-line course                  </td><td>None to less than one month!</td><td>Python, Java / C#, R / Matlab / SAS, HTML / CSS, SQL</td><td>Out-of-state</td><td>No         </td><td>I am living Internationally     </td><td>Section 1 - 3:30pm - Sync + Async</td><td style=\"text-align: right;\">            4</td><td style=\"text-align: right;\">          4</td><td style=\"text-align: right;\">         4</td><td style=\"text-align: right;\">          6</td><td style=\"text-align: right;\">             4</td><td style=\"text-align: right;\">          0</td><td style=\"text-align: right;\">             6</td><td style=\"text-align: right;\">               6</td><td style=\"text-align: right;\">                      6</td><td style=\"text-align: right;\">             6</td><td>              </td><td>                    </td><td>7               </td><td style=\"text-align: right;\">     4</td><td style=\"text-align: right;\">           4</td><td style=\"text-align: right;\">              5</td><td style=\"text-align: right;\">           5</td><td style=\"text-align: right;\">         6</td><td>A      </td><td style=\"text-align: right;\">                6</td></tr>\\n<tr><td style=\"text-align: right;\">           4</td><td style=\"text-align: right;\">    24</td><td>Incoming First-year Student</td><td>Yes - BS    </td><td>Computer Science</td><td>MATH 129P, MATH 231, MATH 232, MATH 233, STOR 120, STOR 155</td><td>7-12 months</td><td>Yes            </td><td>Yes   </td><td>High school course (IB or other)</td><td>1 month or so               </td><td>Python, Java / C#, BASIC                            </td><td>In-state    </td><td>No         </td><td>I am living in the United States</td><td>Section 1 - 3:30pm - Sync + Async</td><td style=\"text-align: right;\">            4</td><td style=\"text-align: right;\">          4</td><td style=\"text-align: right;\">         4</td><td style=\"text-align: right;\">          5</td><td style=\"text-align: right;\">             4</td><td style=\"text-align: right;\">          0</td><td style=\"text-align: right;\">             4</td><td style=\"text-align: right;\">               5</td><td style=\"text-align: right;\">                      6</td><td style=\"text-align: right;\">             4</td><td>              </td><td>                    </td><td>                </td><td style=\"text-align: right;\">     3</td><td style=\"text-align: right;\">           5</td><td style=\"text-align: right;\">              5</td><td style=\"text-align: right;\">           4</td><td style=\"text-align: right;\">         5</td><td>A      </td><td style=\"text-align: right;\">                4</td></tr>\\n</tbody>\\n</table>'"
      ],
      "text/html": "<table>\n<thead>\n<tr><th style=\"text-align: right;\">  row_number</th><th style=\"text-align: right;\">  year</th><th>unc_status                 </th><th>comp_major  </th><th>primary_major   </th><th>prereqs                                                    </th><th>prior_exp  </th><th>AP_Principles  </th><th>AP_A  </th><th>other_comp                      </th><th>prior_time                  </th><th>languages                                           </th><th>residency   </th><th>on_campus  </th><th>international                   </th><th>section                          </th><th style=\"text-align: right;\">  lesson_time</th><th style=\"text-align: right;\">  sync_perf</th><th style=\"text-align: right;\">  all_sync</th><th style=\"text-align: right;\">  own_notes</th><th style=\"text-align: right;\">  own_examples</th><th style=\"text-align: right;\">  oh_visits</th><th style=\"text-align: right;\">  ls_effective</th><th style=\"text-align: right;\">  lsqs_effective</th><th style=\"text-align: right;\">  programming_effective</th><th style=\"text-align: right;\">  qz_effective</th><th>oh_effective  </th><th>tutoring_effective  </th><th>kaki_effective  </th><th style=\"text-align: right;\">  pace</th><th style=\"text-align: right;\">  difficulty</th><th style=\"text-align: right;\">  understanding</th><th style=\"text-align: right;\">  interested</th><th style=\"text-align: right;\">  valuable</th><th>grade  </th><th style=\"text-align: right;\">  would_recommend</th></tr>\n</thead>\n<tbody>\n<tr><td style=\"text-align: right;\">           0</td><td style=\"text-align: right;\">    21</td><td>Returning UNC Student      </td><td>No          </td><td>Public Health   </td><td>MATH 231, MATH 232, MATH 233, STOR 155                     </td><td>1-2 years  </td><td>No             </td><td>No    </td><td>UNC                             </td><td>1 month or so               </td><td>Python, R / Matlab / SAS, Other                     </td><td>Out-of-state</td><td>Yes        </td><td>I am living in the United States</td><td>Section 2 - 5:00pm - Async       </td><td style=\"text-align: right;\">            1</td><td style=\"text-align: right;\">          3</td><td style=\"text-align: right;\">         3</td><td style=\"text-align: right;\">          7</td><td style=\"text-align: right;\">             4</td><td style=\"text-align: right;\">          2</td><td style=\"text-align: right;\">             3</td><td style=\"text-align: right;\">               5</td><td style=\"text-align: right;\">                      3</td><td style=\"text-align: right;\">             4</td><td>7             </td><td>3                   </td><td>4               </td><td style=\"text-align: right;\">     5</td><td style=\"text-align: right;\">           5</td><td style=\"text-align: right;\">              5</td><td style=\"text-align: right;\">           7</td><td style=\"text-align: right;\">         7</td><td>A      </td><td style=\"text-align: right;\">                6</td></tr>\n<tr><td style=\"text-align: right;\">           1</td><td style=\"text-align: right;\">    23</td><td>Returning UNC Student      </td><td>No          </td><td>Statistics      </td><td>MATH 130, MATH 231, STOR 120, STOR 151                     </td><td>2-6 months </td><td>No             </td><td>No    </td><td>UNC                             </td><td>None to less than one month!</td><td>Python                                              </td><td>In-state    </td><td>Yes        </td><td>I am living in the United States</td><td>Section 1 - 3:30pm - Sync + Async</td><td style=\"text-align: right;\">            1</td><td style=\"text-align: right;\">          4</td><td style=\"text-align: right;\">         3</td><td style=\"text-align: right;\">          6</td><td style=\"text-align: right;\">             1</td><td style=\"text-align: right;\">          5</td><td style=\"text-align: right;\">             5</td><td style=\"text-align: right;\">               2</td><td style=\"text-align: right;\">                      3</td><td style=\"text-align: right;\">             7</td><td>7             </td><td>                    </td><td>7               </td><td style=\"text-align: right;\">     7</td><td style=\"text-align: right;\">           7</td><td style=\"text-align: right;\">              3</td><td style=\"text-align: right;\">           7</td><td style=\"text-align: right;\">         7</td><td>B      </td><td style=\"text-align: right;\">                7</td></tr>\n<tr><td style=\"text-align: right;\">           2</td><td style=\"text-align: right;\">    23</td><td>Returning UNC Student      </td><td>No          </td><td>Statistics      </td><td>MATH 130, MATH 231, STOR 120, STOR 151                     </td><td>2-6 months </td><td>No             </td><td>No    </td><td>UNC                             </td><td>None to less than one month!</td><td>Python                                              </td><td>In-state    </td><td>Yes        </td><td>I am living in the United States</td><td>Section 1 - 3:30pm - Sync + Async</td><td style=\"text-align: right;\">            1</td><td style=\"text-align: right;\">          4</td><td style=\"text-align: right;\">         3</td><td style=\"text-align: right;\">          6</td><td style=\"text-align: right;\">             1</td><td style=\"text-align: right;\">          5</td><td style=\"text-align: right;\">             5</td><td style=\"text-align: right;\">               2</td><td style=\"text-align: right;\">                      3</td><td style=\"text-align: right;\">             7</td><td>7             </td><td>                    </td><td>7               </td><td style=\"text-align: right;\">     7</td><td style=\"text-align: right;\">           7</td><td style=\"text-align: right;\">              3</td><td style=\"text-align: right;\">           7</td><td style=\"text-align: right;\">         7</td><td>B      </td><td style=\"text-align: right;\">                7</td></tr>\n<tr><td style=\"text-align: right;\">           3</td><td style=\"text-align: right;\">    23</td><td>Incoming Transfer Student  </td><td>No          </td><td>Sociology       </td><td>MATH 231, MATH 232, MATH 233, MATH 347, MATH 381, STOR 155 </td><td>2-6 months </td><td>No             </td><td>No    </td><td>On-line course                  </td><td>None to less than one month!</td><td>Python, Java / C#, R / Matlab / SAS, HTML / CSS, SQL</td><td>Out-of-state</td><td>No         </td><td>I am living Internationally     </td><td>Section 1 - 3:30pm - Sync + Async</td><td style=\"text-align: right;\">            4</td><td style=\"text-align: right;\">          4</td><td style=\"text-align: right;\">         4</td><td style=\"text-align: right;\">          6</td><td style=\"text-align: right;\">             4</td><td style=\"text-align: right;\">          0</td><td style=\"text-align: right;\">             6</td><td style=\"text-align: right;\">               6</td><td style=\"text-align: right;\">                      6</td><td style=\"text-align: right;\">             6</td><td>              </td><td>                    </td><td>7               </td><td style=\"text-align: right;\">     4</td><td style=\"text-align: right;\">           4</td><td style=\"text-align: right;\">              5</td><td style=\"text-align: right;\">           5</td><td style=\"text-align: right;\">         6</td><td>A      </td><td style=\"text-align: right;\">                6</td></tr>\n<tr><td style=\"text-align: right;\">           4</td><td style=\"text-align: right;\">    24</td><td>Incoming First-year Student</td><td>Yes - BS    </td><td>Computer Science</td><td>MATH 129P, MATH 231, MATH 232, MATH 233, STOR 120, STOR 155</td><td>7-12 months</td><td>Yes            </td><td>Yes   </td><td>High school course (IB or other)</td><td>1 month or so               </td><td>Python, Java / C#, BASIC                            </td><td>In-state    </td><td>No         </td><td>I am living in the United States</td><td>Section 1 - 3:30pm - Sync + Async</td><td style=\"text-align: right;\">            4</td><td style=\"text-align: right;\">          4</td><td style=\"text-align: right;\">         4</td><td style=\"text-align: right;\">          5</td><td style=\"text-align: right;\">             4</td><td style=\"text-align: right;\">          0</td><td style=\"text-align: right;\">             4</td><td style=\"text-align: right;\">               5</td><td style=\"text-align: right;\">                      6</td><td style=\"text-align: right;\">             4</td><td>              </td><td>                    </td><td>                </td><td style=\"text-align: right;\">     3</td><td style=\"text-align: right;\">           5</td><td style=\"text-align: right;\">              5</td><td style=\"text-align: right;\">           4</td><td style=\"text-align: right;\">         5</td><td>A      </td><td style=\"text-align: right;\">                4</td></tr>\n</tbody>\n</table>"
     },
     "metadata": {},
     "execution_count": 14
    }
   ],
   "source": [
    "from tabulate import tabulate\n",
    "from data_utils import head\n",
    "\n",
    "data_cols_head: dict[str, list[str]] = head(data_cols, 5)\n",
    "\n",
    "if len(data_cols_head.keys()) != len(data_cols.keys()) or len(data_cols_head[\"comp_major\"]) != 5:\n",
    "    print(\"Complete your implementation of columnar in data_utils.py\")\n",
    "    print(\"Be sure to follow the guidelines above and save your work before re-evaluating!\")\n",
    "\n",
    "tabulate(data_cols_head, data_cols_head.keys(), \"html\")"
   ]
  },
  {
   "source": [
    "### For this hypothesis, I need to select the own_example variable and the comp_major variable. "
   ],
   "cell_type": "markdown",
   "metadata": {}
  },
  {
   "cell_type": "code",
   "execution_count": 15,
   "metadata": {},
   "outputs": [
    {
     "output_type": "execute_result",
     "data": {
      "text/plain": [
       "'<table>\\n<thead>\\n<tr><th style=\"text-align: right;\">  own_examples</th><th>comp_major  </th></tr>\\n</thead>\\n<tbody>\\n<tr><td style=\"text-align: right;\">             4</td><td>No          </td></tr>\\n<tr><td style=\"text-align: right;\">             1</td><td>No          </td></tr>\\n</tbody>\\n</table>'"
      ],
      "text/html": "<table>\n<thead>\n<tr><th style=\"text-align: right;\">  own_examples</th><th>comp_major  </th></tr>\n</thead>\n<tbody>\n<tr><td style=\"text-align: right;\">             4</td><td>No          </td></tr>\n<tr><td style=\"text-align: right;\">             1</td><td>No          </td></tr>\n</tbody>\n</table>"
     },
     "metadata": {},
     "execution_count": 15
    }
   ],
   "source": [
    "from data_utils import select\n",
    "\n",
    "selected_data: dict[str, list[str]] = select(data_cols, [\"own_examples\", \"comp_major\"])\n",
    "\n",
    "tabulate(head(selected_data, 10), selected_data.keys(), \"html\")"
   ]
  },
  {
   "source": [
    "### Now I am going to count the frequency in which values appear"
   ],
   "cell_type": "markdown",
   "metadata": {}
  },
  {
   "cell_type": "code",
   "execution_count": 16,
   "metadata": {},
   "outputs": [
    {
     "output_type": "stream",
     "name": "stdout",
     "text": [
      "example_counts: {'4': 98, '1': 33, '6': 79, '2': 66, '3': 81, '5': 109, '7': 36}\nmajor_counts: {'No': 331, 'Yes - BS': 60, 'Yes - Minor': 65, 'Yes - BA': 46}\n"
     ]
    }
   ],
   "source": [
    "from data_utils import count\n",
    "\n",
    "example_counts: dict[str, int] = count(selected_data[\"own_examples\"])\n",
    "print(f\"example_counts: {example_counts}\")\n",
    "\n",
    "major_counts: dict[str, int] = count(selected_data[\"comp_major\"])\n",
    "print(f\"major_counts: {major_counts}\")"
   ]
  },
  {
   "source": [
    "### Next, I will make a mask to filter out students who developed their own example of how a concept works from inputs 3 to 7 as being more likely."
   ],
   "cell_type": "markdown",
   "metadata": {}
  },
  {
   "cell_type": "code",
   "execution_count": 17,
   "metadata": {},
   "outputs": [
    {
     "output_type": "stream",
     "name": "stdout",
     "text": [
      "[True, False, False, True, True, True, False, True, False, True, True, True, True, True, True, False, True, True, True, True, True, True, True, True, True, True, False, False, True, True, True, True, True, False, True, True, True, True, True, True, True, True, True, True, True, True, True, True, True, True, False, False, True, True, True, False, True, False, True, True, True, True, True, True, True, True, True, True, False, False, True, True, False, False, True, True, True, True, True, True, True, True, True, True, True, False, True, True, False, True, True, True, True, True, True, True, True, True, True, True, True, True, True, True, True, True, True, False, False, False, True, True, True, True, False, True, True, True, True, True, True, True, True, True, False, True, True, True, True, True, False, True, True, True, True, False, True, True, True, False, True, True, True, True, True, True, True, True, True, True, True, True, True, True, True, True, True, True, True, True, True, True, True, True, True, False, True, True, True, True, True, True, False, True, True, True, True, True, True, True, True, True, True, False, False, True, True, True, True, True, False, False, False, True, True, False, True, True, True, True, True, True, True, True, True, True, True, True, False, True, True, True, True, True, True, True, True, False, True, True, True, False, False, False, True, True, True, False, True, True, False, False, False, True, False, False, True, True, False, True, True, True, True, True, False, True, False, True, False, True, False, True, False, True, True, True, True, True, True, True, True, True, False, False, True, False, False, True, True, True, True, True, True, True, False, True, False, True, True, True, True, False, True, True, True, True, True, False, True, True, False, True, True, False, True, False, False, False, False, False, False, True, True, True, True, True, True, True, True, False, True, True, True, True, True, True, True, True, True, True, True, True, True, False, False, True, True, True, True, True, True, True, True, True, True, True, False, True, True, True, True, False, False, True, True, True, True, True, True, True, True, True, False, True, True, True, True, True, True, True, False, True, True, False, True, True, True, True, True, True, True, True, True, True, True, True, True, False, True, True, False, False, False, True, True, True, True, True, True, True, True, False, True, True, True, True, True, True, True, True, True, False, True, True, True, True, True, True, True, True, True, True, False, True, True, False, True, True, True, True, True, True, True, True, True, True, True, True, True, True, False, True, True, False, True, True, True, True, True, True, True, True, True, True, True, True, True, True, False, True, True, True, True, True, True, True, True, False, True, False, True, True, False, False, True, True, True, True, True, True, False, False, True, True, True, True, False, True, True, True, False, True, True, True, True, False, True, True, True, True, False, True, True, True, True, True, True, True, False, True, False, True]\n"
     ]
    }
   ],
   "source": [
    "def more_likely(col: list[str], threshold: str) -> list[bool]:\n",
    "    result: list[bool] = []\n",
    "    for item in col:\n",
    "        result.append(item >= threshold)\n",
    "    return result\n",
    "#Testing Call\n",
    "more_examples_mask: list[bool] =  more_likely(selected_data[\"own_examples\"], \"3\")\n",
    "print(more_examples_mask)"
   ]
  },
  {
   "source": [
    "### Here is the own_example variable being masked with the more_likely function"
   ],
   "cell_type": "markdown",
   "metadata": {}
  },
  {
   "cell_type": "code",
   "execution_count": 18,
   "metadata": {},
   "outputs": [
    {
     "output_type": "stream",
     "name": "stdout",
     "text": [
      "['4', '4', '4', '6', '4', '3', '5', '4', '6', '6', '3', '5', '4', '3', '4', '3', '3', '4', '6', '3', '4', '6', '7', '4', '4', '5', '5', '4', '4', '6', '4', '4', '4', '4', '4', '4', '4', '6', '6', '6', '3', '4', '5', '5', '3', '6', '4', '3', '5', '4', '4', '3', '4', '4', '3', '4', '3', '4', '3', '5', '3', '3', '6', '4', '4', '4', '4', '5', '3', '6', '7', '4', '3', '3', '4', '3', '4', '3', '6', '6', '6', '4', '5', '5', '3', '3', '3', '6', '3', '5', '6', '4', '5', '3', '3', '6', '6', '6', '3', '3', '7', '5', '4', '6', '5', '4', '3', '3', '5', '5', '6', '3', '6', '4', '5', '5', '5', '5', '5', '4', '4', '4', '3', '7', '3', '5', '4', '5', '7', '5', '6', '6', '5', '7', '7', '6', '4', '6', '6', '5', '6', '5', '4', '4', '6', '4', '5', '5', '7', '5', '5', '3', '5', '5', '6', '5', '4', '7', '6', '5', '4', '6', '5', '6', '6', '3', '6', '6', '6', '4', '4', '5', '5', '6', '5', '5', '5', '4', '5', '4', '6', '6', '7', '3', '5', '7', '5', '4', '5', '7', '6', '3', '5', '5', '3', '4', '4', '5', '3', '7', '6', '3', '4', '3', '5', '3', '4', '5', '5', '4', '6', '7', '5', '6', '3', '6', '3', '4', '6', '4', '4', '5', '4', '4', '4', '4', '6', '3', '7', '5', '3', '6', '4', '5', '5', '6', '6', '4', '3', '4', '5', '5', '6', '5', '5', '5', '5', '7', '6', '6', '5', '3', '7', '6', '3', '3', '5', '4', '6', '7', '5', '3', '4', '7', '7', '5', '7', '3', '4', '6', '4', '7', '3', '5', '5', '6', '6', '5', '3', '7', '5', '7', '7', '5', '6', '6', '5', '5', '3', '5', '6', '6', '5', '3', '5', '4', '5', '4', '6', '3', '7', '5', '5', '3', '5', '3', '4', '3', '7', '3', '5', '6', '5', '5', '7', '5', '4', '5', '6', '5', '3', '5', '7', '3', '4', '5', '5', '6', '4', '4', '4', '3', '3', '5', '5', '6', '4', '6', '3', '7', '4', '5', '5', '4', '3', '3', '3', '3', '3', '5', '3', '4', '6', '4', '4', '6', '3', '4', '4', '3', '5', '3', '6', '7', '3', '6', '7', '3', '7', '3', '5', '3', '3', '4', '4', '4', '5', '5', '7', '6', '4', '5', '6', '4', '4', '5', '5', '6', '5', '5', '5', '5', '6', '7', '5', '5', '4', '3', '4', '6', '7', '6', '5']\n"
     ]
    }
   ],
   "source": [
    "def masked(col: list[int], mask: list[bool]) -> list[int]:\n",
    "    result: list[int] = []\n",
    "    for i in range(len(mask)):\n",
    "        if mask[i]:\n",
    "            result.append(col[i])\n",
    "    return result\n",
    "\n",
    "#Test Call\n",
    "yes_examples: list[str] = masked(selected_data[\"own_examples\"],more_examples_mask)\n",
    "print(yes_examples)"
   ]
  },
  {
   "source": [
    "### I will make another mask to filter out those who do not intend to major or minor in CS."
   ],
   "cell_type": "markdown",
   "metadata": {}
  },
  {
   "cell_type": "code",
   "execution_count": 23,
   "metadata": {},
   "outputs": [
    {
     "output_type": "stream",
     "name": "stdout",
     "text": [
      "[False, False, False, False, False, False, False, False, False, False, False, False, False, False, False, False, False, False, False, False, False, False, False, False, False, False, False, False, False, False, False, False, False, False, False, False, False, False, False, False, False, False, False, False, False, False, False, False, False, False, False, False, False, False, False, False, False, False, False, False, False, False, False, False, False, False, False, False, False, False, False, False, False, False, False, False, False, False, False, False, False, False, False, False, False, False, False, False, False, False, False, False, False, False, False, False, False, False, False, False, False, False, False, False, False, False, False, False, False, False, False, False, False, False, False, False, False, False, False, False, False, False, False, False, False, False, False, False, False, False, False, False, False, False, False, False, False, False, False, False, False, False, False, False, False, False, False, False, False, False, False, False, False, False, False, False, False, False, False, False, False, False, False, False, False, False, False, False, False, False, False, False, False, False, False, False, False, False, False, False, False, False, False, False, False, False, False, False, False, False, False, False, False, False, False, False, False, False, False, False, False, False, False, False, False, False, False, False, False, False, False, False, False, False, False, False, False, False, False, False, False, False, False, False, False, False, False, False, False, False, False, False, False, False, False, False, False, False, False, False, False, False, False, False, False, False, False, False, False, False, False, False, False, False, False, False, False, False, False, False, False, False, False, False, False, False, False, False, False, False, False, False, False, False, False, False, False, False, False, False, False, False, False, False, False, False, False, False, False, False, False, False, False, False, False, False, False, False, False, False, False, False, False, False, False, False, False, False, False, False, False, False, False, False, False, False, False, False, False, False, False, False, False, False, False, False, False, False, False, False, False, False, False, False, False, False, False, False, False, False, False, False, False, False, False, False, False, False, False, False, False, False, False, False, False, False, False, False, False, False, False, False, False, False, False, False, False, False, False, False, False, False, False, False, False, False, False, False, False, False, False, False, False, False, False, False, False, False, False, False, False, False, False, False, False, False, False, False, False, False, False, False, False, False, False, False, False, False, False, False, False, False, False, False, False, False, False, False, False, False, False, False, False, False, False, False, False, False, False, False, False, False, False, False, False, False, False, False, False, False, False, False, False, False, False, False, False, False, False, False, False, False, False, False, False, False, False, False, False, False, False, False, False, False, False, False, False, False, False, False, False, False, False, False, False, False, False, False, False, False, False, False, False, False, False, False, False, False, False, False, False, False, False, False, False, False, False, False, False, False, False, False, False, False, False, False, False, False, False, False, False, False, False, False, False, False, False, False, False, False, False, False, False, False, False, False, False, False, False, False, False, False, False, False, False, False, False, False, False, False, False, False, False, False, False, False, False, False, False, False, False, False, False, False, False, False, False, False, False, False, False, False, False, False, False, False, False, False, False, False, False, False, False, False, False, False, False, False, False, False, False, False, False, False, False, False, False, False, False, False, False, False, False, False, False, False, False, False, False, False, False, False, False, False, False, False, False, False, False, False, False, False, False, False, False, False, False, False, False, False, False, False, False, False, False, False, False, False, False, False, False, False, False, False, False, False, False, False, False, False, False, False, False, False, False, False, False, False, False, False, False, False, False, False, False, False, False, False, False, False, False, False, False, False, False, False, False, False, False, False, False, False, False, False, False, False, False, False, False, False, False, False, False, False, False, False, False, False, False, False, False, False, False, False, False, False, False, False, False, False, False, False, False, False, False, False, False, False, False, False, False, False, False, False, False, False, False, False, False, False, False, False, False, False, False, False, False, False, False, False, False, False, False, False, False, False, False, False, False, False, False, False, False, False, False, False, False, False, False, False, False, False, False, False, False, False, False, False, False, False, False, False, False, False, False, False, False, False, False, False, False, False, False, False, False, False, False, False, False, False, False, False, False, False, False, False, False, False, False, False, False, False, False, False, False, False, False, False, False, False, False, False, False, False, False, False, False, False, False, False, False, False, False, False, False, False, False, False, False, False, False, False, False, False, False, False, False, False, False, False, False, False, False, False, False, False, False, False, False, False, False, False, False, False, False, False, False, False, False, False, False, False, False, False, False, False, False, False, False, False, False, False, False, False, False, False, False, False, False, False, False, False, False, False, False, False, False, False, False, False, False, False, False, False, False, False, False, False, False, False, False, False, False, False, False, False, False, False, False, False, False, False, False, False, False, False, False, False, False, False, False, False, False, False, False, False, False, False, False, False, False, False, False, False, False, False, False, False, False, False, False, False, False, False, False, False, False, False, False, False, False, False, False, False, False, False, False, False, False, False, False, False, False, False, False, False, False, False, False, False, False, False, False, False, False, False, False, False, False, False, False, False, False, False, False, False, False, False, False, False, False, False, False, False, False, False, False, False, False, False, False, False, False, False, False, False, False, False, False, False, False, False, False, False, False, False, False, False, False, False, False, False, False, False, False, False, False, False, False, False, False, False, False, False, False, False, False, False, False, False, False, False, False, False, False, False, False, False, False, False, False, False, False, False, False, False, False, False, False, False, False, False, False, False, False, False, False, False, False, False, False, False, False, False, False, False, False, False, False, False, False, False, False, False, False, False, False, False, False, False, False, False, False, False, False, False, False, False, False, False, False, False, False, False, False, False, False, False, False, False, False, False, False, False, False, False, False, False, False, False, False, False, False, False, False, False, False, False, False, False, False, False, False, False, False, False, False, False, False, False, False, False, False, False, False, False, False, False, False, False, False, False, False, False, False, False, False, False, False, False, False, False, False, False, False, False, False, False, False, False, False, False, False, False, False, False, False, False, False, False, False, False, False, False, False, False, False, False, False, False, False, False, False, False, False, False, False, False, False, False, False, False, False, False, False, False, False, False, False, False, False, False, False, False, False, False, False, False, False, False, False, False, False, False, False, False, False, False, False, False, False, False, False, False, False, False, False, False, False, False, False, False, False, False, False, False, False, False, False, False, False, False, False, False, False, False, False, False, False, False, False, False, False, False, False, False, False, False, False, False, False, False, False, False, False, False, False, False, False, False, False, False, False, False, False, False, False, False, False, False, False, False, False, False, False, False, False, False, False, False, False, False, False, False, False, False, False, False, False, False, False, False, False, False, False, False, False, False, False, False, False, False, False, False, False, False, False, False, False, False, False, False, False, False, False, False, False, False, False, False, False, False, False, False, False, False, False, False, False, False, False, False, False, False, False, False, False, False, False, False, False, False, False, False, False, False, False, False, False, False, False, False, False, False, False, False, False, False, False, False, False, False, False, False, False, False, False, False, False, False, False, False, False, False, False, False, False, False, False, False, False, False, False, False, False, False, False, False, False, False, False, False, False, False, False, False, False, False, False, False, False, False, False, False, False, False, False, False, False, False, False, False, False, False, False, False, False, False, False, False, False, False, False, False, False, False, False, False, False, False, False, False, False, False, False, False, False, False, False, False, False, False, False, False, False, False, False, False, False, False, False, False, False, False, False, False, False, False, False, False, False, False, False, False, False, False, False, False, False, False, False, False, False, False, False, False, False, False, False, False, False, False, False, False, False, False, False, False, False, False, False, False, False, False, False, False]\n"
     ]
    }
   ],
   "source": [
    "def yes_major(col: list[str], threshold: str) -> list[bool]:\n",
    "    result: list[bool] = []\n",
    "    for item in col:\n",
    "        for item in threshold:\n",
    "            result.append(item == threshold)\n",
    "    return result\n",
    "\n",
    "major_mask: list[bool] = yes_major(selected_data[\"comp_major\"], \"Yes\")\n",
    "print(major_mask)\n",
    "    "
   ]
  },
  {
   "source": [
    "### Next, I need to match these up to the original values of the comp_major variable with another mask."
   ],
   "cell_type": "markdown",
   "metadata": {}
  },
  {
   "cell_type": "code",
   "execution_count": 24,
   "metadata": {},
   "outputs": [
    {
     "output_type": "stream",
     "name": "stdout",
     "text": [
      "[]\n"
     ]
    }
   ],
   "source": [
    "def masked_2(col: list[str], mask: list[bool]) -> list[str]:\n",
    "    result: list[str] = []\n",
    "    for i in range(len(mask)):\n",
    "        if mask[i]:\n",
    "            result.append(col[i])\n",
    "    return result\n",
    "#Test Call\n",
    "cs_majors_only: list[str] = masked_2(selected_data[\"comp_major\"], major_mask)\n",
    "print(cs_majors_only)"
   ]
  },
  {
   "source": [
    "### Now all there is to do is to put it together! I will be filtering out those who do not fulfill both mask conditions of being more likely to make their own examples and intend to major in CS."
   ],
   "cell_type": "markdown",
   "metadata": {}
  },
  {
   "cell_type": "code",
   "execution_count": 25,
   "metadata": {},
   "outputs": [
    {
     "output_type": "stream",
     "name": "stdout",
     "text": [
      "[[], [], [], [], [], [], [], [], [], [], [], [], [], [], [], [], [], [], [], [], [], [], [], [], [], [], [], [], [], [], [], [], [], [], [], [], [], [], [], [], [], [], [], [], [], [], [], [], [], [], [], [], [], [], [], [], [], [], [], [], [], [], [], [], [], [], [], [], [], [], [], [], [], [], [], [], [], [], [], [], [], [], [], [], [], [], [], [], [], [], [], [], [], [], [], [], [], [], [], [], [], [], [], [], [], [], [], [], [], [], [], [], [], [], [], [], [], [], [], [], [], [], [], [], [], [], [], [], [], [], [], [], [], [], [], [], [], [], [], [], [], [], [], [], [], [], [], [], [], [], [], [], [], [], [], [], [], [], [], [], [], [], [], [], [], [], [], [], [], [], [], [], [], [], [], [], [], [], [], [], [], [], [], [], [], [], [], [], [], [], [], [], [], [], [], [], [], [], [], [], [], [], [], [], [], [], [], [], [], [], [], [], [], [], [], [], [], [], [], [], [], [], [], [], [], [], [], [], [], [], [], [], [], [], [], [], [], [], [], [], [], [], [], [], [], [], [], [], [], [], [], [], [], [], [], [], [], [], [], [], [], [], [], [], [], [], [], [], [], [], [], [], [], [], [], [], [], [], [], [], [], [], [], [], [], [], [], [], [], [], [], [], [], [], [], [], [], [], [], [], [], [], [], [], [], [], [], [], [], [], [], [], [], [], [], [], [], [], [], [], [], [], [], [], [], [], [], [], [], [], [], [], [], [], [], [], [], [], [], [], [], [], [], [], [], [], [], [], [], [], [], [], [], [], [], [], [], [], [], [], [], [], [], [], [], [], [], [], [], [], [], [], [], [], [], [], [], [], [], [], [], [], [], [], [], [], [], [], [], [], [], [], [], [], [], [], [], [], [], [], [], [], [], [], [], [], [], [], [], [], [], [], [], [], [], [], [], [], [], [], [], [], [], [], [], [], [], [], [], [], [], [], [], [], [], [], [], [], [], [], [], [], [], [], [], [], [], [], [], [], [], [], [], [], [], [], [], [], [], [], [], [], [], [], [], [], [], [], [], [], [], [], [], [], [], [], [], [], [], [], [], [], [], [], [], [], [], [], [], [], [], [], [], [], [], [], [], [], [], [], [], []]\n"
     ]
    }
   ],
   "source": [
    "def hypothesis_true(examples: list[bool], major: list[bool]) -> list[bool]:\n",
    "    result: list[bool] = []\n",
    "    for item in examples:\n",
    "        result.append(examples and major )\n",
    "    return result\n",
    "\n",
    "both_true: list[bool] = hypothesis_true(more_examples_mask,cs_majors_only)\n",
    "print(both_true)"
   ]
  }
 ]
}